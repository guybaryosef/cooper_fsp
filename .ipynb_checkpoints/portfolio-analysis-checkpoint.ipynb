{
 "cells": [
  {
   "cell_type": "markdown",
   "metadata": {
    "_uuid": "6b91f20a95b6c04d411d60e787f2bc3b461d7fb5"
   },
   "source": [
    "# Portfolio Analysis\n",
    "\n",
    "**ECE 478 Financial Signal Processing**\n",
    "\n",
    "**Pset1: Portoflio Analysis**\n",
    "\n",
    "Our general Steps will be:\n",
    "1.  Preprocessing (can be found [here](https://www.kaggle.com/guybaryosef/portfolio-analysis-preprocessing/notebook))\n",
    "    * This will include loading, cleaning, and organizing the benchmark we will use benchmark, S&P 500 returns, and the USD Libor (interest rate).\n",
    "2. Basic Markowitz Portfolio Analysis\n",
    "3. Sparse Portfolio Analysis (someday in the future)"
   ]
  },
  {
   "cell_type": "code",
   "execution_count": null,
   "metadata": {
    "_uuid": "230680cf2c9799749df77d8b1a2d616954b01f3b"
   },
   "outputs": [],
   "source": [
    "import numpy as np\n",
    "import pandas as pd\n",
    "import matplotlib.pyplot as plt"
   ]
  },
  {
   "cell_type": "markdown",
   "metadata": {
    "_uuid": "86f7ff0c0552e8782cfec94fc8dcb5351a58ad23"
   },
   "source": [
    "### Basic Markovitz Portfolio Analysis\n",
    "\n",
    "In the preprocessing stage, we did the following:\n",
    "1. Took the Farma and French Dataset 48 benchmark, which was acquired from [Kenneth R. French](http://mba.tuck.dartmouth.edu/pages/faculty/ken.french/data_library.html), cleaned it, and split its daily returns for the 48 securities into 17 files, one for each year 2000-2016.\n",
    "2. Aquired the S&P500 daily lows and highs from [Yahoo Finance](https://finance.yahoo.com/quote/%5EGSPC/history?p=%5EGSPC) and computed the daily returns, organizing the data into years equivalent to the benchmark in step 1.\n",
    "3. Aquired the USD 3 month LIBOR rate from [here](http://iborate.com/usd-libor/). Converted it into an effective daily rate and packaged these daily rates into files by years 2000 - 2016, just as above. \n",
    "\n",
    "In this kernel we will use the 48 securities in our benchmark as the possible stocks in our portoflio. More so, we will model the S&P500 as our market portfolio (spolier alert, it won't do a good job), and the LIBOR rates as our risk-free interest rate (i.e. the rate your money would grow in a money market).\n",
    "\n",
    "We will go according to the pset1 specifications, allowing the user to input a year of their choice (between 2000 - 2016) to analyze. \n",
    "\n",
    "At the end of this analysis we will pipeline all the parts together and look at our results.\n",
    "\n",
    "To show our results, lets begin with specifying a year to demonstrate the functions as we go through them."
   ]
  },
  {
   "cell_type": "code",
   "execution_count": null,
   "metadata": {
    "_uuid": "bbf3510a8c819b3310b24bbc2bab0565282167e5"
   },
   "outputs": [],
   "source": [
    "year = 2004"
   ]
  },
  {
   "cell_type": "markdown",
   "metadata": {
    "_uuid": "e0dc0bb4429cd9d97c7f374c7e7957886933c72a"
   },
   "source": [
    "#### Part A)\n",
    "We will start by computing the sample mean and the sample covariance matrix of the 48 securities."
   ]
  },
  {
   "cell_type": "code",
   "execution_count": null,
   "metadata": {
    "_uuid": "415cd812ccc36653b20df68c149d945d47b816a1"
   },
   "outputs": [],
   "source": [
    "def openBenchmark(year, kind):\n",
    "    '''\n",
    "    Opens the dataset corresponding with specific year and type.\n",
    "    Valid Input:\n",
    "        year: between 2000 - 2016 (those are just the years we preprocessed)\n",
    "        kind: Options are (note that there is no error checking):\n",
    "            'benchmark' - The 48 security daily averages.\n",
    "            'sp500' - Daily returns of the S&P 500'.\n",
    "            'libor' - Effective daily interest rate for the USD 3-month LIBOR.\n",
    "    '''\n",
    "    \n",
    "    base = ''\n",
    "    if kind == 'benchmark':\n",
    "        base = '../input/48_IP_eq_w_daily_returns_'\n",
    "    elif kind == 'sp500':\n",
    "        base = '../input/SP_daily_returns_'\n",
    "    elif kind == 'libor':\n",
    "        base = '../input/LIBOR_daily_interest_'\n",
    "        \n",
    "    try:\n",
    "        benchmark = pd.read_csv(base + str(year) + '.csv')\n",
    "    except:\n",
    "        sys.exit('Unable to open the', kind, 'file for the specified year. :(')\n",
    "    \n",
    "    benchmark.set_index('Date', inplace=True) # set the date field as the row index\n",
    "    return benchmark"
   ]
  },
  {
   "cell_type": "code",
   "execution_count": null,
   "metadata": {
    "_uuid": "c417435ea29e407fc569a1672aaa31b3cd74cb06"
   },
   "outputs": [],
   "source": [
    "def mean_cov(dataframe):\n",
    "    '''\n",
    "    Given a pandas dataframe, returns its mean (along the columns) and the\n",
    "    covariance matrix of its columns.\n",
    "    '''\n",
    "    data = np.transpose(dataframe)\n",
    "    \n",
    "    meanVec = pd.DataFrame({'Mean': list(data.mean(axis=1))})\n",
    "    work_days_in_year = data.columns.size\n",
    "    \n",
    "    covMat = (1/(work_days_in_year-1))*(np.subtract(data @ np.transpose(data), meanVec @ np.transpose(meanVec)))\n",
    "    \n",
    "    return meanVec, covMat"
   ]
  },
  {
   "cell_type": "code",
   "execution_count": null,
   "metadata": {
    "_uuid": "6d90c660e5befeae86c78c1a431ec9524469f8b7"
   },
   "outputs": [],
   "source": [
    "def find_mean_cov(year):\n",
    "    ''' \n",
    "    Opens benchmark of specified year and returns the security means and covariance matrix.\n",
    "    '''\n",
    "    benchmark = openBenchmark(year, 'benchmark')\n",
    "    if isinstance(benchmark, int):\n",
    "        return -1    \n",
    "\n",
    "    return mean_cov(benchmark)"
   ]
  },
  {
   "cell_type": "code",
   "execution_count": null,
   "metadata": {
    "_uuid": "927d2a450349be4d9aa04aac82b65b0f358f00a2"
   },
   "outputs": [],
   "source": [
    "find_mean_cov(year)"
   ]
  },
  {
   "cell_type": "markdown",
   "metadata": {
    "_uuid": "36c21fbca195c3b785e79470c1b286d3cf51d291"
   },
   "source": [
    "#### Part B)\n",
    "Compute the expected risk and return of the portfolio, $\\sigma$, $\\mu$ respectively.\n",
    "Note that the risk is defined as the standard deviation of the returns.\n",
    "\n",
    "We will do this for the inputted naive portfolio, market portfolio, and the minimum variance portfolio (MVP):\n",
    "* The naive portfolio is the one whose weights are equal for all the securities.\n",
    "* The market portofolio is the S&P500 returns.\n",
    "* The minimum variance portfolio is the portfolio whose variance is the smallest possible."
   ]
  },
  {
   "cell_type": "code",
   "execution_count": null,
   "metadata": {
    "_uuid": "65a48ad9a0f11bfee3397efb360f241e90bc751f"
   },
   "outputs": [],
   "source": [
    "def sigma_mu(year):\n",
    "    '''\n",
    "    Given a year, returns the following real-numbered values (in order):\n",
    "        Naive Portfolio's Expected Returns\n",
    "        Naive Portfolio's Expected Risk\n",
    "        MVP's Expected Returns\n",
    "        MVP's Expected Risk\n",
    "        Market Portfolio's Expected Returns\n",
    "        Market Portfolio's Expected Risk\n",
    "    '''\n",
    "    \n",
    "    # NAIVE PORTFOLIO (assumes equal weights for each security)\n",
    "    meanVec, covMat = find_mean_cov(year)    \n",
    "\n",
    "    naive_weights = pd.DataFrame({'Weights': ([1/48] * 48)})\n",
    "    mu_naive_portfolio = (np.transpose(meanVec) @ naive_weights).values[0][0]\n",
    "    sigma_naive_portfolio =  np.sum(np.sqrt( np.transpose(naive_weights.values) @ covMat.values @ naive_weights.values ))\n",
    "\n",
    "    # MVP PORTFOLIO\n",
    "    sigma_mvp_portfolio = 1/np.sqrt( np.sum(np.linalg.inv(covMat.values)) )\n",
    "    mvp_weights = np.sum(  (sigma_mvp_portfolio**2) * np.linalg.inv(covMat) , axis=1 )\n",
    "    mu_mvp_portfolio = np.sum((np.transpose(meanVec) @ mvp_weights ) )\n",
    "    \n",
    "    # MARKET PORTFOLIO\n",
    "    sp = openBenchmark(year, 'sp500')\n",
    "    if (isinstance(sp, int) ):\n",
    "        return -1\n",
    "    \n",
    "    mu_market_portfolio = sp['Return'].mean()\n",
    "    sigma_market_portfolio = np.sqrt( sp['Return'].var() )\n",
    "    \n",
    "    return  mu_naive_portfolio, sigma_naive_portfolio, mu_mvp_portfolio, sigma_mvp_portfolio, mu_market_portfolio, sigma_market_portfolio"
   ]
  },
  {
   "cell_type": "markdown",
   "metadata": {
    "_uuid": "adda659411af3164e6dcdf56f4e6e2db6a19fdcb"
   },
   "source": [
    "Next we will plot the feasible portfolio curve of 5 pairs of randomly chosen securities, under the assumption of no short selling. \n",
    "Note that for each of these pairs, there will be a different portfolio mean and variance as well as MVP."
   ]
  },
  {
   "cell_type": "code",
   "execution_count": null,
   "metadata": {
    "_uuid": "8809ec5c0e2e6e309328c858bf81574e6b5f239b"
   },
   "outputs": [],
   "source": [
    "def twoRand(low, high, notIn = []):\n",
    "    '''\n",
    "    Given a lower and upper bound, returns 2 random integers within the range, not including the integers in 'notIn'.\n",
    "    Note that there is no error checking.\n",
    "    '''\n",
    "    cur1 = cur2 = int(round(np.random.uniform(low, high)))\n",
    "    while cur1 in notIn:\n",
    "        cur1 = int(round(np.random.uniform(low, high)))\n",
    "    \n",
    "    notIn.append(cur1)\n",
    "    while cur2 in notIn:\n",
    "        cur2 = int(round(np.random.uniform(low, high)))\n",
    "    return cur1, cur2"
   ]
  },
  {
   "cell_type": "code",
   "execution_count": null,
   "metadata": {
    "_uuid": "9ac7b6c2fd6b9a8a4f5fc5f58079b318e07d3ae5"
   },
   "outputs": [],
   "source": [
    "def twoSecFeasableCurve(year, num1, num2):\n",
    "    '''\n",
    "    Given a year and two numbers between 0 and 47 (representing two securities),\n",
    "    this function plots the feasable portfolio curve of the securities, under the assumption of no short selling.\n",
    "    '''\n",
    "    n_mean, n_cov = find_mean_cov(year)    \n",
    "    mu_n_port, sig_n_port, _, _, _, _ = sigma_mu(2000)\n",
    "\n",
    "    A=(n_cov.iloc[num1][num1] + n_cov.iloc[num2][num2] - 2*n_cov.iloc[num1][num2]) / ((n_mean.iloc[num1] - n_mean.iloc[num2])**2)\n",
    "     \n",
    "    # keeping the expected return between the two individual means lets us avoid short selling\n",
    "    mu = []\n",
    "    if n_mean.iloc[[num1],0].values > n_mean.iloc[[num2],0].values:\n",
    "        mu = np.linspace(n_mean.iloc[[num2],0].values, n_mean.iloc[[num1],0].values, 1000)\n",
    "    else:\n",
    "        mu = np.linspace(n_mean.iloc[[num1],0].values, n_mean.iloc[[num2],0].values, 1000)\n",
    "    \n",
    "    # finally, lets compute the MVP (sigma, mu) for these two portfolios\n",
    "    benchmark = openBenchmark(year, 'benchmark')\n",
    "    two_securities = benchmark.iloc[:, [num1, num2]]\n",
    "    two_mean, two_cov = mean_cov(two_securities)\n",
    "    two_mvp_sig = 1 / np.sqrt(np.sum(np.linalg.inv(two_cov) ))\n",
    "    two_mvp_weights = np.sum((two_mvp_sig**2) * np.linalg.inv(two_cov.values), axis=0)\n",
    "    two_mvp_mean = np.sum(np.transpose(two_mean) @ two_mvp_weights )\n",
    "    \n",
    "    sig = [np.sqrt( (A)*(m - two_mvp_mean)**2 + two_mvp_sig**2 ) for m in mu]\n",
    "    \n",
    "    plt.plot(sig, mu, label='Securities:'+ benchmark.columns[num1]+ ' & '+ benchmark.columns[num2])\n"
   ]
  },
  {
   "cell_type": "code",
   "execution_count": null,
   "metadata": {
    "_uuid": "c1fcf5514c933f703b35a241073335896b77d90d"
   },
   "outputs": [],
   "source": [
    "def fiveFeasalbeCurves(year):\n",
    "    '''\n",
    "    Given a year, this function plots the feasable portoflio curve of\n",
    "    5 randomly chosen security-pairs.\n",
    "    '''\n",
    "    notIn = []\n",
    "    plt.figure(figsize=[15,10])\n",
    "    for _ in range(5):\n",
    "        num1, num2 = twoRand(0,47, notIn)\n",
    "        notIn.append([num1, num2])\n",
    "        twoSecFeasableCurve(year, num1, num2)\n",
    "        \n",
    "    plt.xlabel('$\\sigma$, (Risk)')\n",
    "    plt.ylabel('$\\mu$, (Expected Return)')\n",
    "    plt.title('Feasible Portfolios for 2 Random Securities')\n",
    "    plt.legend()\n",
    "    plt.show()"
   ]
  },
  {
   "cell_type": "code",
   "execution_count": null,
   "metadata": {
    "_uuid": "05d907f3da8f73125f684c322cbcccc35d395c65"
   },
   "outputs": [],
   "source": [
    "fiveFeasalbeCurves(year)"
   ]
  },
  {
   "cell_type": "markdown",
   "metadata": {
    "_uuid": "ab3a8e5c75f8fd02e2f788409b21c52318e24783"
   },
   "source": [
    "#### Part C)\n",
    "Compute the efficient frontier and graph it."
   ]
  },
  {
   "cell_type": "code",
   "execution_count": null,
   "metadata": {
    "_uuid": "8209dcaad517ee1cc602b7d33ca819c6767205de"
   },
   "outputs": [],
   "source": [
    "def efficientFrontierSigma(year, mu):\n",
    "    '''\n",
    "    Given a year and list of expected returns, returns the expected risks corresponding to the efficient frontier.\n",
    "    '''\n",
    "    n_mean, n_cov = find_mean_cov(year)\n",
    "    \n",
    "    # equation for the Markovitz bullet\n",
    "    mu_tild = pd.concat([n_mean, pd.DataFrame({'1s':[1]*len(n_mean.index)}) ], axis=1)\n",
    "    B = np.transpose(mu_tild) @ np.linalg.inv(n_cov.values) @ mu_tild\n",
    "    G = np.linalg.inv(B) @ np.transpose(mu_tild) @ np.linalg.inv(n_cov.values) @ mu_tild @ np.linalg.inv(B)\n",
    "    \n",
    "    return [np.sqrt(G[0][0]*((m + (G[1][0]/G[0][0]) )**2) + np.linalg.det(G)/G[0][0]) for m in mu]"
   ]
  },
  {
   "cell_type": "code",
   "execution_count": null,
   "metadata": {
    "_uuid": "cf8a16157b0f599be780e1288b72622e8ddfb82b"
   },
   "outputs": [],
   "source": [
    "def get_libor_rate(year):\n",
    "    '''\n",
    "    Returns the averaged effective daily USD 3-month LIBOR rate for the given year.\n",
    "    '''\n",
    "    libor = openBenchmark(year, 'libor')\n",
    "    risk_free_rate = libor.mean(axis=0)\n",
    "    return risk_free_rate.values[0]"
   ]
  },
  {
   "cell_type": "code",
   "execution_count": null,
   "metadata": {
    "_uuid": "5d1e630beb1ebe16db50dc972e50297d415119b5"
   },
   "outputs": [],
   "source": [
    "def efficientFrontierGraph(year, theoret= []):\n",
    "    '''\n",
    "    Given a year, this function graphs the efficient frontier as well as the line segment connecting\n",
    "    the risk-free interest rate (in our case, the libor rate) and the market portfolio (in our case, the S&P500).\n",
    "    Will accept an optinal input of [expected return, risk] that will be the theoretical market portfolo.\n",
    "    '''\n",
    "    _, _, mu_mvp, sig_mvp, mu_market, sig_market = sigma_mu(year)\n",
    "    \n",
    "    mu = np.linspace(-5,5, 1000)\n",
    "    sig = efficientFrontierSigma(year, mu)\n",
    "    \n",
    "    plt.figure(figsize=[15,10])\n",
    "    plt.plot(sig, mu, label='Markowitz Bullet')\n",
    "    plt.xlabel('$\\sigma$, Risk')\n",
    "    plt.ylabel('$\\mu$, Expected Return')\n",
    "    plt.axis([0, 4, -1.5, 1.5])\n",
    "    plt.title('The Efficient Frontier')\n",
    "    \n",
    "    #adding the line(s) connecting the risk-free interest rate and the market portfolios\n",
    "    R = get_libor_rate(year)\n",
    "    plt.plot([0, sig_market], [R, mu_market], marker='o', label='Risk-free rate to S&P500')\n",
    "    \n",
    "    if theoret:\n",
    "        plt.plot([0, theoret[1]], [R, theoret[0]], marker='o', label='Risk-free rate to Theoretical Market Portfolio')\n",
    "    \n",
    "    plt.legend()\n",
    "    plt.show()"
   ]
  },
  {
   "cell_type": "code",
   "execution_count": null,
   "metadata": {
    "_uuid": "5c5d6ef912f158807d19f7e28ebf3044376e162d"
   },
   "outputs": [],
   "source": [
    "efficientFrontierGraph(year)"
   ]
  },
  {
   "cell_type": "markdown",
   "metadata": {
    "_uuid": "4e38360533c25829cb18e467eb51f55d4e964d00"
   },
   "source": [
    "As we shall see, the S&P 500 does not do a good job approximating the market portfolio ( which should lie on the efficient frontier and be the tangent line between the risk free interest rate and the efficient frontier.\n",
    "\n",
    "Because of this, we will also compute the theoretical market portoflio and continue our analysis with both the S&P500 and the correct (theoretical) market portofolio."
   ]
  },
  {
   "cell_type": "code",
   "execution_count": null,
   "metadata": {
    "_uuid": "8f43dae1f03f8fc23e5cc483abf190dea4f3f44e"
   },
   "outputs": [],
   "source": [
    "def theoreticalMarketPort(year):\n",
    "    '''\n",
    "    Finds the theoretical market portfolio for the benchmark portfolio given a specific year.\n",
    "    Returns the market portolio's expected return and risk.\n",
    "    '''\n",
    "    meanVec, covMat = find_mean_cov(year)\n",
    "    R = get_libor_rate(year)\n",
    "    \n",
    "    m_ex = meanVec - R\n",
    "    weights = (1/np.sum(np.linalg.inv(covMat) @ m_ex))*(np.linalg.inv(covMat.values) @ m_ex)\n",
    "    exp_ret = np.sum(np.transpose(meanVec) @ weights)\n",
    "    risk = np.sum(np.sqrt( np.transpose(weights) @ covMat.values @ weights ))\n",
    "    \n",
    "    return exp_ret, risk"
   ]
  },
  {
   "cell_type": "code",
   "execution_count": null,
   "metadata": {
    "_uuid": "7215799c924eee74640e0a47b049da72f8e53081"
   },
   "outputs": [],
   "source": [
    "theoret_mu, theoret_sig = theoreticalMarketPort(year)\n",
    "efficientFrontierGraph(year, [theoret_mu, theoret_sig])"
   ]
  },
  {
   "cell_type": "markdown",
   "metadata": {
    "_uuid": "b2f0032377d18e7808096cd2fc2f2fd353767b9b"
   },
   "source": [
    "#### Parts D and E)\n",
    "Confirm that if we take 3 random points from the efficient frontier, we can obtain one of their weights as a convex combination of the weights of the other 2.\n",
    "This means that for the weights of any 3 efficient portoflios ($\\vec{w_1}$, $\\vec{w_2}$, $\\vec{w_3}$), we can satisfy the equation:\n",
    " $$ w_{1i} = uw_{2i} + (1-u)w_{3i} \\ \\ , for \\ \\ 0 < i < 47 $$\n",
    "\n",
    "for any $u \\in \\mathbb{R}$. \n",
    "\n",
    "For $R$, the risk-free interest rate, does the following inequality hold $R < \\mu_{MVP}$?"
   ]
  },
  {
   "cell_type": "code",
   "execution_count": null,
   "metadata": {
    "_uuid": "25d26828863d4c7b526a3cf01ab7e6c48e568ac5"
   },
   "outputs": [],
   "source": [
    "def confirmConvexCombo(year):\n",
    "    '''\n",
    "    This function does several things, given a specific year:\n",
    "        1. Finds 3 random points on the efficient frontier and confirms that the returns and risk are both ascending together.\n",
    "        2. Confirms that each point of the efficient frontier (the weights of said points) is a convex combination of the weights of any other 2 points (weights) on the efficient frontier.\n",
    "        3. Checks whether the risk-free interest rate (libor rate) is lower or larger than the expected return of the MVP.\n",
    "        4. Returns the weights, expected returns, and expected risk of the 3 randomly picked points on the efficient frontier.\n",
    "    '''\n",
    "    # PART D\n",
    "    _, _, mu_mvp, _, _, _ = sigma_mu(year)\n",
    "    mu = np.random.uniform(mu_mvp, 1, 3) # to check this, mu >= mu_MVP\n",
    "    mu.sort()\n",
    "    sig = efficientFrontierSigma(year, mu)\n",
    "    \n",
    "    # confirm expected risks are in same increasing order as the expected returns\n",
    "    if (sig[0] < sig[1] and sig[1] < sig[2]):\n",
    "        print('Sigmas are valued correctly!')\n",
    "    else:\n",
    "        print('Sigmas are not valued correctly :(')\n",
    "    print('Expected Values:', mu, '\\nRisk:', sig, end='\\n\\n')\n",
    "    \n",
    "    # get the weights of the three points\n",
    "    meanVec, covMat = find_mean_cov(year)\n",
    "    \n",
    "    m_tild = pd.concat([meanVec, pd.DataFrame({'1s':[1]*len(meanVec.index)}) ], axis=1)\n",
    "    B = np.transpose(m_tild) @ np.linalg.inv(covMat.values) @ m_tild\n",
    "    \n",
    "    mu_tild = [[[m], [1]] for m in mu]\n",
    "    weights = [np.linalg.inv(covMat.values) @ m_tild @ np.linalg.inv(B) @ i for i in mu_tild]\n",
    "    \n",
    "    # confirm that each efficient portfolio is a combination of any 2 efficient portofolios\n",
    "    u = np.divide(weights[0] - weights[2], weights[1] - weights[2])\n",
    "    print('Confirming that the portoflios are made up of a convex combination of each other by showing that all the values in the vector u are the same:\\n', u, end='\\n\\n')\n",
    "    \n",
    "    # PART E, is R < mu_MVP?\n",
    "    R = get_libor_rate(year)\n",
    "    if (R < mu_mvp):\n",
    "        print('R is less than mu_MVP', end=' ')\n",
    "    else:\n",
    "        print('R is greater than the mu_MVP', end=' ')\n",
    "    print(' R:', R, ', mu_MVP:', mu_mvp)\n",
    "    \n",
    "    return weights, sig, mu"
   ]
  },
  {
   "cell_type": "code",
   "execution_count": null,
   "metadata": {
    "_uuid": "fd4a30fc37709e4e92d70531833b24e9b734b6e7"
   },
   "outputs": [],
   "source": [
    "three_rand_w, three_rand_sig, three_rand_mu = confirmConvexCombo(year)"
   ]
  },
  {
   "cell_type": "markdown",
   "metadata": {
    "_uuid": "ebb2c5432a0b57a43bc1f23d79e62d48b40f5d67"
   },
   "source": [
    "#### Part F)\n",
    "Find the equation for the Capital Market Line, knowing that its equation is:\n",
    "$$ \\mu = R + \\frac{\\mu_M - R}{\\sigma_M}\\sigma$$\n",
    "\n",
    "Where $\\mu_M$, $\\sigma_M$ are the expected return and the risk of the market portfolio respectively and $R$ is the risk-free expected return.\n",
    "As stated previously,  the S&P500 is an inadequate estimator for our market portfolio and so we will use the theoretical values isntead."
   ]
  },
  {
   "cell_type": "code",
   "execution_count": null,
   "metadata": {
    "_uuid": "ce73bfebdf0dc53c8adfcf56b24d56af7cb44ad7"
   },
   "outputs": [],
   "source": [
    "def CMLlambdaFunc(year):\n",
    "    '''\n",
    "    Returns the Capital Market Line (as a lambda function) for a given year.\n",
    "    '''\n",
    "    theoret_mu, theoret_sig = theoreticalMarketPort(year)\n",
    "    R = get_libor_rate(year)\n",
    "    \n",
    "    return lambda sig: R + (theoret_mu - R)*sig/theoret_sig"
   ]
  },
  {
   "cell_type": "markdown",
   "metadata": {
    "_uuid": "1263015ad4e4b5ed57deacdf136d23f5cd2dae65"
   },
   "source": [
    "#### Part G)\n",
    "Find the beta factor of the MVP, the 3 portfolios we loooked at on the efficient frontier, and the naive portfolio. The two relevant equations for the beta factor of a portfolio $V$ are:\n",
    "$$ \\beta_V = \\frac{cov (K_V, K_M)}{\\sigma_M^2}  = \\frac{\\mu_V - R}{\\mu_M - R} $$\n",
    "\n",
    "where $V$ is refers to the specific portfolio, $M$ is referes to the market portfolio (we will use the theoretical one)."
   ]
  },
  {
   "cell_type": "code",
   "execution_count": null,
   "metadata": {
    "_uuid": "9e3f5136a3504d101e6a0c38aadb18575e403e68"
   },
   "outputs": [],
   "source": [
    "def betaFactor(year, sigma, mu): \n",
    "    '''\n",
    "    Given a year and the returns and risks of any number of points:\n",
    "        1. Finds the beta factors of the MVP, navie portfolio, and the inputted points.\n",
    "        2. Finds the covariance between each of the inputted points' returns and the market portfolio's returns.\n",
    "        3. Graphs the expected returns of beta factor graph, as well as the points found in step 1.\n",
    "    '''\n",
    "    theoret_mu, theoret_sig = theoreticalMarketPort(year)\n",
    "    mu_naive, _, mu_mvp, _, _, _ = sigma_mu(year)\n",
    "    R = get_libor_rate(year)\n",
    "    \n",
    "    # find 3 efficient frontier points' beta and covariance(b/w their returns and the market portofolio's)\n",
    "    beta = [(mu_port - R)/(theoret_mu-R) for mu_port in mu]\n",
    "    print('The beta for the three inputed points are:', beta)\n",
    "    cov = [(theoret_sig**2)*i for i in beta]\n",
    "    print('The covaraince between the inputed points\\' returns and the market portfolio are:', cov)\n",
    "    \n",
    "    # plot the mu by beta\n",
    "    plt.figure(figsize=[15,10])\n",
    "    \n",
    "    # mu by beta line\n",
    "    plt_beta = np.linspace(0, 3, 100)\n",
    "    plt_mu = [b*(theoret_mu - R) + R for b in plt_beta]\n",
    "    plt.plot(plt_beta, plt_mu)\n",
    "    \n",
    "    # adding the individual points\n",
    "    for i, (m,b) in enumerate(zip(mu, beta)):\n",
    "        plt.plot(b,m, marker='o', label='Point '+ str(i))\n",
    "    plt.plot((mu_mvp-R)/(theoret_mu-R), mu_mvp, marker='o', label='MVP')\n",
    "    plt.plot((mu_naive-R)/(theoret_mu-R), mu_naive, marker='o', label='Naive Portoflio')\n",
    "    \n",
    "    plt.xlabel('$\\\\beta$ (Beta Factor)')\n",
    "    plt.ylabel('$\\mu$ (Expected Returns)')\n",
    "    plt.title('The Expected Returns over Beta Factor graph')\n",
    "    plt.legend()\n",
    "    plt.show()"
   ]
  },
  {
   "cell_type": "code",
   "execution_count": null,
   "metadata": {
    "_uuid": "d402dbf95dd379b346e5b84129e0966fae6c602e"
   },
   "outputs": [],
   "source": [
    "betaFactor(year, three_rand_sig, three_rand_mu)"
   ]
  },
  {
   "cell_type": "markdown",
   "metadata": {
    "_uuid": "4b92e10a7b491ab040a5ae9fbfd31419a513545a"
   },
   "source": [
    "#### Part H)\n",
    "Suppose you start with $1 on January 1st for each of the following portfolios: the MVP, market portfolio (S&P500), the naive portfolio, and the three portfolios you chose on the efficient frontier. Graph their value in time for the year using the actual data."
   ]
  },
  {
   "cell_type": "code",
   "execution_count": null,
   "metadata": {
    "_uuid": "80c9782ec8258430e20fa05da08ed80dd33e0180"
   },
   "outputs": [],
   "source": [
    "def plotUtil(dataCol, lab):\n",
    "    '''\n",
    "    Helper function to 'graphValue'. Given a column of daily returns, plots the changing value of 1$.  \n",
    "    '''\n",
    "    time = range(np.size(dataCol,0))\n",
    "    val = [1]\n",
    "    for i in range(len(time)-1):\n",
    "        val.append(val[i]*(1+dataCol[i]/100))\n",
    "    plt.plot(time, val, label=lab)"
   ]
  },
  {
   "cell_type": "code",
   "execution_count": null,
   "metadata": {
    "_uuid": "0948685700b8785eea16d5f01b60e3541cbc1c64"
   },
   "outputs": [],
   "source": [
    "def graphValue(year, points = []):\n",
    "    '''\n",
    "    Graphs the changing value of an initial investment of 1$ to the following portfolios:\n",
    "        MVP\n",
    "        naive portfolio\n",
    "        market porfolio (S&P500)\n",
    "        Any number of points (input their weights).\n",
    "    '''\n",
    "    plt.figure(figsize=[15,10])\n",
    "    \n",
    "    sp = openBenchmark(year, 'sp500')\n",
    "    benchmark = openBenchmark(year, 'benchmark')\n",
    "    if isinstance(sp, int) or isinstance(benchmark, int):\n",
    "        return -1\n",
    "    \n",
    "    # S&P500\n",
    "    plotUtil(sp['Return'].values, 'S&P500')\n",
    "    \n",
    "    # naive portfolio\n",
    "    naive_weights = pd.DataFrame({'Weights': ([1/48] * 48)})\n",
    "    naive_returns = benchmark.values @ naive_weights\n",
    "    plotUtil(naive_returns, 'Naive Portfolio')\n",
    "    \n",
    "    # MVP\n",
    "    n_mean, n_cov = find_mean_cov(year)\n",
    "    sigma_mvp_portfolio = 1/np.sqrt( np.sum(np.linalg.inv(n_cov.values)) )\n",
    "    mvp_weights = np.sum(  (sigma_mvp_portfolio**2) * np.linalg.inv(n_cov) , axis=1 )\n",
    "    mvp_returns = benchmark.values @ mvp_weights\n",
    "    plotUtil(mvp_returns, 'MVP Portfolio')\n",
    "    \n",
    "    # inputted weights of the inputted portfolios\n",
    "    for i,weights in enumerate(points):\n",
    "        cur_return = benchmark.values @ weights\n",
    "        plotUtil(cur_return, 'Efficient Portfolio #'+str(i+1))\n",
    "    \n",
    "    plt.title('Value of Initial 1\\$ investment over the course of '+str(year))\n",
    "    plt.ylabel('Value in USD')\n",
    "    plt.xticks([0,83, 164, 250], ('January', 'April', 'August', 'December'))\n",
    "    plt.xlabel('Time (1 year)')\n",
    "    plt.legend()\n",
    "    plt.show()"
   ]
  },
  {
   "cell_type": "code",
   "execution_count": null,
   "metadata": {
    "_uuid": "51f8b3f5326e7312ff47ca240ca9d9dae66f235d"
   },
   "outputs": [],
   "source": [
    "graphValue(year)"
   ]
  },
  {
   "cell_type": "markdown",
   "metadata": {
    "_uuid": "9472a82b479ea3fa77ea594afe225a5847f58b95"
   },
   "source": [
    "We can now run all the functions one after the other:"
   ]
  },
  {
   "cell_type": "code",
   "execution_count": null,
   "metadata": {
    "_uuid": "2edadac3a465ea5cffd03e30833f87bac373c5d5"
   },
   "outputs": [],
   "source": [
    "def the_works(year):\n",
    "    '''\n",
    "    Runs all the functions we have made in this kernel.\n",
    "    '''\n",
    "    m, c = find_mean_cov(year)\n",
    "    print('For year ', year, 'the expected returns for each sector is:\\n', m, '\\n\\nThe resulting covariance matrix for the securities is:\\n', c)\n",
    "    fiveFeasalbeCurves(year)\n",
    "    theoret_mu, theoret_sig = theoreticalMarketPort(year)\n",
    "    efficientFrontierGraph(year, [theoret_mu, theoret_sig])\n",
    "    three_eff_front_weights, three_eff_front_sig, three_eff_front_mean = confirmConvexCombo(year)\n",
    "    betaFactor(year, three_eff_front_mean, three_eff_front_sig)\n",
    "    graphValue(year, three_eff_front_weights)"
   ]
  },
  {
   "cell_type": "code",
   "execution_count": null,
   "metadata": {
    "_uuid": "27a989c8a835dd82921476811df797d150085193"
   },
   "outputs": [],
   "source": [
    "the_works(2008) # financial crash "
   ]
  },
  {
   "cell_type": "code",
   "execution_count": null,
   "metadata": {
    "_uuid": "1ea054a9a8a1092fcb6a084f0d5f40b290ab817b"
   },
   "outputs": [],
   "source": [
    "the_works(2014) # another example"
   ]
  },
  {
   "cell_type": "markdown",
   "metadata": {
    "_uuid": "03521061e3c266ba485094c49100490f833a920a"
   },
   "source": [
    "and thats Markowitz's Portfolio Theory!\n",
    "\n",
    "It is encouraging to see a positive $\\mu$ over $\\beta$ graph for both of these experiments. When this graph was run using the S&P500 subsitutting the market portfolio the slope was seen to be negative, and so this could be seen as further proof that it cannot model the market portfolio. \n",
    "\n",
    "The original thought behind having the S&P500 stand as the market portfolio was the assumption that everyone will have knowledge of this analysis and so will all share the same market portfolio, leading to everyone having weights proportional to the market capitalization. The S&P500 is based off of the market capitalization and includes a large variety of stocks, and so was hypothesized to be a good approximation."
   ]
  }
 ],
 "metadata": {
  "kernelspec": {
   "display_name": "Python 3",
   "language": "python",
   "name": "python3"
  },
  "language_info": {
   "codemirror_mode": {
    "name": "ipython",
    "version": 3
   },
   "file_extension": ".py",
   "mimetype": "text/x-python",
   "name": "python",
   "nbconvert_exporter": "python",
   "pygments_lexer": "ipython3",
   "version": "3.6.5"
  }
 },
 "nbformat": 4,
 "nbformat_minor": 1
}
