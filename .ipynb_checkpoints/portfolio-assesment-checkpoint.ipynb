{
 "cells": [
  {
   "cell_type": "markdown",
   "metadata": {
    "_uuid": "6b91f20a95b6c04d411d60e787f2bc3b461d7fb5"
   },
   "source": [
    "## ECE 478 Financial Signal Processing\n",
    "## Pset1: Portoflio Analysis\n",
    "\n",
    "Our general Steps will be:\n",
    "1.  Preprocessing (can be found [here](https://www.kaggle.com/guybaryosef/portfolio-analysis-preprocessing/notebook))\n",
    "    * This will include loading and organizing a benchmark, S&P 500 returns, and USD Libor (interest rate).\n",
    "2. Basic Markovitz Portfolio Analysis\n",
    "3. Sparse Portfolio Analysis (someday in the future)"
   ]
  },
  {
   "cell_type": "code",
   "execution_count": null,
   "metadata": {
    "_uuid": "230680cf2c9799749df77d8b1a2d616954b01f3b"
   },
   "outputs": [],
   "source": [
    "import numpy as np\n",
    "import pandas as pd\n",
    "import matplotlib.pyplot as plt"
   ]
  },
  {
   "cell_type": "markdown",
   "metadata": {
    "_uuid": "86f7ff0c0552e8782cfec94fc8dcb5351a58ad23"
   },
   "source": [
    "### Basic Markovitz Portfolio Analysis\n",
    "\n",
    "We will build this analysis so that it can be applied to any year available(we preproccessed years 2000-2016). \n",
    "\n",
    "This analysis will be split into small steps., yet at the end will be the pipeline of all the parts combined.\n",
    "\n",
    "#### Part A)\n",
    "We will start by computing the sample mean and the sample covariance matrix of the returns for the 48 securities."
   ]
  },
  {
   "cell_type": "code",
   "execution_count": null,
   "metadata": {
    "_uuid": "415cd812ccc36653b20df68c149d945d47b816a1"
   },
   "outputs": [],
   "source": [
    "# open relevant file and ensure valid input    \n",
    "def openBenchmark(year, kind):\n",
    "    '''\n",
    "    Opens the dataset corresponding with specific year and type.\n",
    "    Valid Input:\n",
    "        year: between 2000 - 2016 (those are just the years we preprocessed)\n",
    "        kind: Options are:\n",
    "            'benchmark' - The 48 security daily averages.\n",
    "            'sp500' - Daily returns of the S&P 500'.\n",
    "            'libor' - Effective daily interest rate for the USD 3-month LIBOR.\n",
    "    '''\n",
    "    \n",
    "    base = ''\n",
    "    if kind == 'benchmark':\n",
    "        base = '../input/48_IP_eq_w_daily_returns_'\n",
    "    elif kind == 'sp500':\n",
    "        base = '../input/SP_daily_returns_'\n",
    "    elif kind == 'libor':\n",
    "        base = '../input/LIBOR_daily_interest_'\n",
    "        \n",
    "    try:\n",
    "        benchmark = pd.read_csv(base + str(year) + '.csv')\n",
    "    except:\n",
    "        sys.exit('Unable to open the', kind, 'file for the specified year. :(')\n",
    "    \n",
    "    benchmark.set_index('Date', inplace=True) # set the date field as the row index\n",
    "    return benchmark"
   ]
  },
  {
   "cell_type": "code",
   "execution_count": null,
   "metadata": {
    "_uuid": "c417435ea29e407fc569a1672aaa31b3cd74cb06"
   },
   "outputs": [],
   "source": [
    "def mean_cov(dataframe):\n",
    "    '''\n",
    "    Given a pandas dataframe, returns its mean (along the columns) and its columns covariance matrix.\n",
    "    '''\n",
    "    benchmark = np.transpose(dataframe)\n",
    "    \n",
    "    meanVec = pd.DataFrame({'Mean': list(benchmark.mean(axis=1))})\n",
    "    work_days_in_year = benchmark.columns.size\n",
    "    \n",
    "    covMat = (1/(work_days_in_year-1)) *( np.subtract(benchmark @ np.transpose(benchmark), meanVec @ np.transpose(meanVec)) )\n",
    "    \n",
    "    return meanVec, covMat"
   ]
  },
  {
   "cell_type": "code",
   "execution_count": null,
   "metadata": {
    "_uuid": "6d90c660e5befeae86c78c1a431ec9524469f8b7"
   },
   "outputs": [],
   "source": [
    "def find_mean_cov(year):\n",
    "    ''' \n",
    "    Opens benchmark of specified year and returns the securities means and covariance matrix.'''\n",
    "    benchmark = openBenchmark(year, 'benchmark')\n",
    "    if isinstance(benchmark, int):\n",
    "        return -1    \n",
    "\n",
    "    return mean_cov(benchmark)"
   ]
  },
  {
   "cell_type": "markdown",
   "metadata": {
    "_uuid": "36c21fbca195c3b785e79470c1b286d3cf51d291"
   },
   "source": [
    "#### Part B)\n",
    "Compute the expected risk and return of the portfolio ($\\sigma$, $\\mu$ respectively) for the inputted naive portfolio, market portfolio, and the minimum variance portfolio (MVP)."
   ]
  },
  {
   "cell_type": "code",
   "execution_count": null,
   "metadata": {
    "_uuid": "65a48ad9a0f11bfee3397efb360f241e90bc751f"
   },
   "outputs": [],
   "source": [
    "def sigma_mu(year):\n",
    "    '''\n",
    "    Given a year, returns the following real-numbered values (in order):\n",
    "        Naive Portfolio's Expected Returns\n",
    "        Naive Portfolio's Expected Risk\n",
    "        MVP's Expected Returns\n",
    "        MVP's Expected Risk\n",
    "        Market Portfolio's Expected Returns\n",
    "        Market Portfolio's Expected Risk\n",
    "    '''\n",
    "    \n",
    "    # NAIVE PORTFOLIO (assumes equal weights for each security)\n",
    "    naive_meanVec, naive_covMat = find_mean_cov(year)    \n",
    "\n",
    "    naive_weights = pd.DataFrame({'Weights': ([1/48] * 48)})\n",
    "    mu_naive_portfolio = (np.transpose(naive_meanVec) @ naive_weights).values[0][0]\n",
    "    sigma_naive_portfolio =  np.sum(np.sqrt( np.transpose(naive_weights.values) @ naive_covMat.values @ naive_weights.values ))\n",
    "\n",
    "    # MVP PORTFOLIO\n",
    "    sigma_mvp_portfolio = 1/np.sqrt( np.sum(np.linalg.inv(naive_covMat.values)) )\n",
    "    mvp_weights = np.sum(  (sigma_mvp_portfolio**2) * np.linalg.inv(naive_covMat) , axis=1 )\n",
    "    mu_mvp_portfolio = np.sum((np.transpose(naive_meanVec) @ mvp_weights ) )\n",
    "    \n",
    "    # MARKET PORTFOLIO\n",
    "    sp = openBenchmark(year, 'sp500')\n",
    "    if (isinstance(sp, int) ):\n",
    "        return -1\n",
    "    \n",
    "    mu_market_portfolio = sp['Return'].mean()\n",
    "    sigma_market_portfolio = np.sqrt( sp['Return'].var() )\n",
    "    \n",
    "    return  mu_naive_portfolio, sigma_naive_portfolio, mu_mvp_portfolio, sigma_mvp_portfolio, mu_market_portfolio, sigma_market_portfolio"
   ]
  },
  {
   "cell_type": "markdown",
   "metadata": {
    "_uuid": "adda659411af3164e6dcdf56f4e6e2db6a19fdcb"
   },
   "source": [
    "Next we shall draw the feasible portfolio curve of 5 pairs of randomly chosen securities, assuming no short selling. \n",
    "Note that for each of these pairs, there will be a different portfolio mean and variance and also a unique MVP (minimium variance portfolio - i.e. the protfolio with the least risk)."
   ]
  },
  {
   "cell_type": "code",
   "execution_count": null,
   "metadata": {
    "_uuid": "8809ec5c0e2e6e309328c858bf81574e6b5f239b"
   },
   "outputs": [],
   "source": [
    "# gets 2 random (and unique) numbers inside range of low and high, not including the numbers in notIn.\n",
    "# NOTE: There is no error checking in this function.\n",
    "def twoRand(low, high, notIn = []):\n",
    "    '''\n",
    "    Given a lower and upper bound, returns 2 random integers within the range (not including the integers in 'notIn'.\n",
    "    '''\n",
    "    cur1 = cur2 = int(round(np.random.uniform(low, high)))\n",
    "    while cur1 in notIn:\n",
    "        cur1 = int(round(np.random.uniform(low, high)))\n",
    "    \n",
    "    notIn.append(cur1)\n",
    "    while cur2 in notIn:\n",
    "        cur2 = int(round(np.random.uniform(low, high)))\n",
    "    return cur1, cur2"
   ]
  },
  {
   "cell_type": "code",
   "execution_count": null,
   "metadata": {
    "_uuid": "9ac7b6c2fd6b9a8a4f5fc5f58079b318e07d3ae5"
   },
   "outputs": [],
   "source": [
    "def twoSecFeasableCurve(year, num1, num2):\n",
    "    '''\n",
    "    Given a year and two numbers between 0 and 47 (representing the two securities to examine), plots the feasable portfolio curve assuming no short selling.\n",
    "    '''\n",
    "    n_mean, n_cov = find_mean_cov(year)    \n",
    "    mu_n_port, sig_n_port, _, _, _, _ = sigma_mu(2000)\n",
    "\n",
    "    A=(n_cov.iloc[num1][num1] + n_cov.iloc[num2][num2] - 2*n_cov.iloc[num1][num2]) / ((n_mean.iloc[num1] - n_mean.iloc[num2])**2)\n",
    "     \n",
    "    # keeping the expected return between the two individual means lets us avoid short selling\n",
    "    mu = []\n",
    "    if n_mean.iloc[[num1],0].values > n_mean.iloc[[num2],0].values:\n",
    "        mu = np.linspace(n_mean.iloc[[num2],0].values, n_mean.iloc[[num1],0].values, 1000)\n",
    "    else:\n",
    "        mu = np.linspace(n_mean.iloc[[num1],0].values, n_mean.iloc[[num2],0].values, 1000)\n",
    "    \n",
    "    # finally, lets compute the MVP (sigma, mu) for these two portfolios\n",
    "    benchmark = openBenchmark(year, 'benchmark')\n",
    "    two_securities = benchmark.iloc[:, [num1, num2]]\n",
    "    two_mean, two_cov = mean_cov(two_securities)\n",
    "    two_mvp_sig = 1 / np.sqrt(np.sum(np.linalg.inv(two_cov) ))\n",
    "    two_mvp_weights = np.sum((two_mvp_sig**2) * np.linalg.inv(two_cov.values), axis=0)\n",
    "    two_mvp_mean = np.sum(np.transpose(two_mean) @ two_mvp_weights )\n",
    "    \n",
    "    sig = [np.sqrt( (A)*(m - two_mvp_mean)**2 + two_mvp_sig**2 ) for m in mu]\n",
    "    \n",
    "    plt.plot(sig, mu, label='Securities:'+ benchmark.columns[num1]+ ' & '+ benchmark.columns[num2])\n"
   ]
  },
  {
   "cell_type": "code",
   "execution_count": null,
   "metadata": {
    "_uuid": "c1fcf5514c933f703b35a241073335896b77d90d"
   },
   "outputs": [],
   "source": [
    "def FiveFeasalbeCurves(year):\n",
    "    '''\n",
    "    Given a year, it produces 5 randomly chosen 2-security-pairs and plots their feasable portoflios (assuming no short selling).\n",
    "    '''\n",
    "    notIn = []\n",
    "    plt.figure(figsize=[15,10])\n",
    "    for _ in range(5):\n",
    "        num1, num2 = twoRand(0,47, notIn)\n",
    "        notIn.append([num1, num2])\n",
    "        twoSecFeasableCurve(year, num1, num2)\n",
    "    plt.xlabel('$\\sigma$, (Risk)')\n",
    "    plt.ylabel('$\\mu$, (Expected Return)')\n",
    "    plt.title('Feasible Portfolios for 2 Random Securities')\n",
    "    plt.legend()\n",
    "    plt.show()"
   ]
  },
  {
   "cell_type": "code",
   "execution_count": null,
   "metadata": {
    "_uuid": "c6a45c63bb3757a3161f7465cabe1172130795dc"
   },
   "outputs": [],
   "source": [
    "FiveFeasalbeCurves(2004)"
   ]
  },
  {
   "cell_type": "markdown",
   "metadata": {
    "_uuid": "ab3a8e5c75f8fd02e2f788409b21c52318e24783"
   },
   "source": [
    "#### Part C)\n",
    "Compute the efficient frontier and graph it."
   ]
  },
  {
   "cell_type": "code",
   "execution_count": null,
   "metadata": {
    "_uuid": "8209dcaad517ee1cc602b7d33ca819c6767205de"
   },
   "outputs": [],
   "source": [
    "def efficientFrontierSigma(year, mu):\n",
    "    '''\n",
    "    Given a year and list of expected returns, returns the expected risks corresponding to the efficient frontier.\n",
    "    '''\n",
    "    n_mean, n_cov = find_mean_cov(year)\n",
    "    \n",
    "    # equation for the Markovitz bullet\n",
    "    mu_tild = pd.concat([n_mean, pd.DataFrame({'1s':[1]*len(n_mean.index)}) ], axis=1)\n",
    "    B = np.transpose(mu_tild) @ np.linalg.inv(n_cov.values) @ mu_tild\n",
    "    G = np.linalg.inv(B) @ np.transpose(mu_tild) @ np.linalg.inv(n_cov.values) @ mu_tild @ np.linalg.inv(B)\n",
    "    \n",
    "    return [np.sqrt(G[0][0]*((m + (G[1][0]/G[0][0]) )**2) + np.linalg.det(G)/G[0][0]) for m in mu]"
   ]
  },
  {
   "cell_type": "code",
   "execution_count": null,
   "metadata": {
    "_uuid": "cf8a16157b0f599be780e1288b72622e8ddfb82b"
   },
   "outputs": [],
   "source": [
    "def get_libor_rate(year):\n",
    "    '''\n",
    "    Gets the averaged effective daily USD LIBOR rate for the given year (We used the USD 3 month LIBOR).\n",
    "    '''\n",
    "    libor = openBenchmark(year, 'libor')\n",
    "    risk_free_rate = libor.mean(axis=0)\n",
    "    return risk_free_rate.values[0]"
   ]
  },
  {
   "cell_type": "code",
   "execution_count": null,
   "metadata": {
    "_uuid": "5d1e630beb1ebe16db50dc972e50297d415119b5"
   },
   "outputs": [],
   "source": [
    "def efficientFrontierGraph(year):\n",
    "    '''\n",
    "    Given a year, it graphs the efficient frontier, as well as the risk-free interest rate (in our case, the libor rate) and the market portfolio (in our case, the S&P500).\n",
    "    '''\n",
    "    _, _, mu_mvp, sig_mvp, mu_market, sig_market = sigma_mu(year)\n",
    "    \n",
    "    mu = np.linspace(-5,5, 1000)\n",
    "    sig = efficientFrontierSigma(year, mu)\n",
    "    \n",
    "    plt.figure(figsize=[15,10])\n",
    "    plt.plot(sig, mu, label='Markovitz Bullet')\n",
    "    plt.xlabel('$\\sigma$, Risk')\n",
    "    plt.ylabel('$\\mu$, Expected Return')\n",
    "    plt.axis([0, 4, -1.5, 1.5])\n",
    "    plt.title('The Efficient Frontier')\n",
    "    \n",
    "    #adding the line connecting the risk-free interest rate and the market portfolio\n",
    "    R = get_libor_rate(year)\n",
    "    plt.plot([0,sig_market], [R, mu_market], marker='o', label='Risk-free rate to Market Portfolio')\n",
    "    \n",
    "    plt.legend()\n",
    "    plt.show()"
   ]
  },
  {
   "cell_type": "code",
   "execution_count": null,
   "metadata": {
    "_uuid": "6cfa476043e2b22cf69ed18da410109fcfc4d05a"
   },
   "outputs": [],
   "source": [
    "efficientFrontierGraph(2002)"
   ]
  },
  {
   "cell_type": "markdown",
   "metadata": {
    "_uuid": "4e38360533c25829cb18e467eb51f55d4e964d00"
   },
   "source": [
    "Clearly, the S&P 500 does not do a good job approximating the market portfolio... "
   ]
  },
  {
   "cell_type": "markdown",
   "metadata": {
    "_uuid": "b2f0032377d18e7808096cd2fc2f2fd353767b9b"
   },
   "source": [
    "#### Part D and E)\n",
    "Confirm that if we take 3 random points from the efficient frontier, we can obtain one of their weights as a convex combination of the weights of the other 2.\n",
    "This means that for the weights of any 3 efficient portoflios ($\\vec{w_1}$, $\\vec{w_2}$, $\\vec{w_3}$), we can satisfy the equation:\n",
    " $$ w_{1i} = uw_{2i} + (1-u)w_{3i} \\ \\ , for \\ \\ 0 < i < 47 $$\n",
    "\n",
    "for any $u \\in \\mathbb{R}$. \n",
    "\n",
    "In addition, is $R < \\mu_{MVP}$?"
   ]
  },
  {
   "cell_type": "code",
   "execution_count": null,
   "metadata": {
    "_uuid": "25d26828863d4c7b526a3cf01ab7e6c48e568ac5"
   },
   "outputs": [],
   "source": [
    "def confirmConvexCombo(year):\n",
    "    '''\n",
    "    This function does several things, given a specific year:\n",
    "        1. Finds 3 random points on the efficient frontier and confirms that the returns and risk are both ascending together.\n",
    "        2. Confirms that each point of the efficient frontier (the weights of said points) is a convex combination of the weights of any other 2 points (weights) on the efficient frontier.\n",
    "        3. Checks whether the risk-free interest rate (libor rate) is lower or larger than the expected return of the MVP.\n",
    "        4. Returns the weights, expected returns, and expected risk of the 3 randomly picked points on the efficient frontier.\n",
    "    '''\n",
    "    # PART D\n",
    "    _, _, mu_mvp, _, _, _ = sigma_mu(year)\n",
    "    mu = np.random.uniform(mu_mvp, 1, 3) # to check this, mu >= mu_MVP\n",
    "    mu.sort()\n",
    "    sig = efficientFrontierSigma(year, mu)\n",
    "    \n",
    "    # confirm expected risks are in same increasing order as the expected returns\n",
    "    if (sig[0] < sig[1] and sig[1] < sig[2]):\n",
    "        print('Sigmas are valued correctly!')\n",
    "    else:\n",
    "        print('Sigmas are not valued correctly :(')\n",
    "    print('Expected Values:', mu, '\\nRisk:', sig, end='\\n\\n')\n",
    "    \n",
    "    # get the weights of the three points\n",
    "    n_mean, n_cov = find_mean_cov(year)\n",
    "    \n",
    "    m_tild = pd.concat([n_mean, pd.DataFrame({'1s':[1]*len(n_mean.index)}) ], axis=1)\n",
    "    B = np.transpose(m_tild) @ np.linalg.inv(n_cov.values) @ m_tild\n",
    "    G = np.linalg.inv(B) @ np.transpose(m_tild) @ np.linalg.inv(n_cov.values) @ m_tild @ np.linalg.inv(B)\n",
    "    \n",
    "    mu_tild = [[m, 1] for m in mu]\n",
    "    weights = [np.linalg.inv(n_cov.values) @ m_tild @ np.linalg.inv(B) @  mu for mu in mu_tild]\n",
    "    \n",
    "    # confirm that each efficient portfolio is a combination of any 2 efficient portofolios\n",
    "    u = np.divide(weights[0] - weights[2], weights[1] - weights[2])\n",
    "    print('Confirming that the portoflios are made up of a convex combination of each other by showing that all the values in the vector u are the same:\\n', u, end='\\n\\n')\n",
    "    \n",
    "    # PART E, is R < mu_MVP?\n",
    "    R = get_libor_rate(year)\n",
    "    if (R < mu_mvp):\n",
    "        print('R is less than mu_MVP', end=' ')\n",
    "    else:\n",
    "        print('R is greater than the mu_MVP', end=' ')\n",
    "    print(' R:', R, ', mu_MVP:', mu_mvp)\n",
    "    \n",
    "    return weights, sig, mu"
   ]
  },
  {
   "cell_type": "code",
   "execution_count": null,
   "metadata": {
    "_uuid": "cf684982f7d94f0137bd7191b2b81d6804ca9d7b"
   },
   "outputs": [],
   "source": [
    "three_eff_front_weights, three_eff_front_sig, three_eff_front_mean = confirmConvexCombo(2002)"
   ]
  },
  {
   "cell_type": "markdown",
   "metadata": {
    "_uuid": "ebb2c5432a0b57a43bc1f23d79e62d48b40f5d67"
   },
   "source": [
    "#### Part F)\n",
    "Find the equation for the Capital Market Line, knowing that its equation is:\n",
    "$$ \\mu = R + \\frac{\\mu_M - R}{\\sigma_M}\\sigma$$\n",
    "\n",
    "Where $\\mu_M$, $\\sigma_M$ are the expected return and the risk of the market portfolio respectively and $R$ is the risk-free expected return.\n",
    "As stated previously,  the S&P500 is what we are considering to be our market portfolio."
   ]
  },
  {
   "cell_type": "code",
   "execution_count": null,
   "metadata": {
    "_uuid": "ce73bfebdf0dc53c8adfcf56b24d56af7cb44ad7"
   },
   "outputs": [],
   "source": [
    "def CMLlambdaFunc(year):\n",
    "    '''\n",
    "    Returns the Capital Market Line (as a lambda function) for a given year.\n",
    "    '''\n",
    "    _, _, _, _, mu_market, sig_market = sigma_mu(year)\n",
    "    R = get_libor_rate(year)\n",
    "    \n",
    "    return lambda sig: R + (mu_market - R)*sig/sig_market"
   ]
  },
  {
   "cell_type": "markdown",
   "metadata": {
    "_uuid": "1263015ad4e4b5ed57deacdf136d23f5cd2dae65"
   },
   "source": [
    "#### Part G)\n",
    "Find the beta factor of the MVP, the 3 portfolios we loooked at on the efficient frontier, and the naive portfolio. The two relevant equations for the beta factor of a portfolio $V$ are:\n",
    "$$ \\beta_V = \\frac{cov (K_V, K_M)}{\\sigma_M^2}  = \\frac{\\mu_V - R}{\\mu_M - R} $$\n",
    "\n",
    "where $V$ is refers to the specific portfolio, $M$ is referes to the market portfolio (in this case, again the S&P500)."
   ]
  },
  {
   "cell_type": "code",
   "execution_count": null,
   "metadata": {
    "_uuid": "9e3f5136a3504d101e6a0c38aadb18575e403e68"
   },
   "outputs": [],
   "source": [
    "def betaFactor(year, mu, sigma): \n",
    "    '''\n",
    "    Given a year and the returns and risks of any number of points:\n",
    "        1. Finds the beta factors of the MVP, navie portfolio, and the inputted points.\n",
    "        2. Finds the covariance between each of the inputted points' returns and the market portfolio's returns.\n",
    "        3. Graphs the expected returns of beta factor graph, as well as the points found in step 1.\n",
    "    '''\n",
    "    \n",
    "    mu_naive, _, mu_mvp, _, mu_market, sig_market = sigma_mu(year)\n",
    "    R = get_libor_rate(year)\n",
    "    \n",
    "    # find 3 efficient frontier points' beta and covarariance(b/w their returns and the market portofolio's)\n",
    "    beta = [(mu_port - R)/(mu_market-R) for mu_port in mu]\n",
    "    print('The beta for the three inputed points are: ', beta)\n",
    "    cov = [(sig_market**2)*i for i in beta]\n",
    "    print('The covaraince between the inputed points\\' returns and the market portfolio are:', cov)\n",
    "    \n",
    "    # plot the mu by beta\n",
    "    plt.figure(figsize=[15,10])\n",
    "    \n",
    "    # mu by beta line\n",
    "    plt_beta = np.linspace(-10, 10, 1000)\n",
    "    plt_mu = [b*(mu_market - R) + R for b in plt_beta]\n",
    "    plt.plot(plt_beta, plt_mu)\n",
    "    \n",
    "    # adding the individual points\n",
    "    for i, (m,b) in enumerate(zip(mu, beta)):\n",
    "        plt.plot(b,m, marker='o', label='Point '+ str(i))\n",
    "    plt.plot((mu_mvp-R)/(mu_market-R), mu_mvp, marker='o', label='MVP')\n",
    "    plt.plot((mu_naive-R)/(mu_market-R), mu_naive, marker='o', label='Naive Portoflio')\n",
    "    \n",
    "    plt.xlabel('$\\\\beta$ (Beta Factor)')\n",
    "    plt.ylabel('$\\mu$ (Expected Returns)')\n",
    "    plt.title('The Expected Returns over Beta Factor graph')\n",
    "    plt.legend()\n",
    "    plt.show()"
   ]
  },
  {
   "cell_type": "code",
   "execution_count": null,
   "metadata": {
    "_uuid": "f920561b2eaca358760b36df23c59e4f3099b7ae"
   },
   "outputs": [],
   "source": [
    "betaFactor(2002, three_eff_front_mean, three_eff_front_sig)"
   ]
  },
  {
   "cell_type": "markdown",
   "metadata": {
    "_uuid": "4b92e10a7b491ab040a5ae9fbfd31419a513545a"
   },
   "source": [
    "#### Part H)\n",
    "Suppose you start with $1 on January 1st for each of the following portfolios: the MVP, market portfolio (S&P500), the naive portfolio, and the three you chose on the efficient frontier. Graph their value in time for the year using the actual data."
   ]
  },
  {
   "cell_type": "code",
   "execution_count": null,
   "metadata": {
    "_uuid": "80c9782ec8258430e20fa05da08ed80dd33e0180"
   },
   "outputs": [],
   "source": [
    "def plotUtil(dataCol, lab):\n",
    "    '''\n",
    "    Helper function to 'graphValue'. Given a column of daily returns, plots the changing value of 1$.  \n",
    "    '''\n",
    "    time = range(np.size(dataCol,0))\n",
    "    val = [1]\n",
    "    for i in range(len(time)-1):\n",
    "        val.append(val[i]*(1+dataCol[i]/100))\n",
    "    plt.plot(time, val, label=lab)"
   ]
  },
  {
   "cell_type": "code",
   "execution_count": null,
   "metadata": {
    "_uuid": "0948685700b8785eea16d5f01b60e3541cbc1c64"
   },
   "outputs": [],
   "source": [
    "def graphValue(year, points = []):\n",
    "    '''\n",
    "    Graphs the changing value of an initial investment of 1$ to the following portfolios:\n",
    "        MVP\n",
    "        naive portfolio\n",
    "        market porfolio (S&P500)\n",
    "        Any number of points (input their weights).\n",
    "    '''\n",
    "    plt.figure(figsize=[15,10])\n",
    "    \n",
    "    sp = openBenchmark(year, 'sp500')\n",
    "    benchmark = openBenchmark(year, 'benchmark')\n",
    "    if isinstance(sp, int) or isinstance(benchmark, int):\n",
    "        return -1\n",
    "    \n",
    "    # S&P500\n",
    "    plotUtil(sp['Return'].values, 'S&P500')\n",
    "    \n",
    "    # naive portfolio\n",
    "    naive_weights = pd.DataFrame({'Weights': ([1/48] * 48)})\n",
    "    naive_returns = benchmark.values @ naive_weights\n",
    "    plotUtil(naive_returns, 'Naive Portfolio')\n",
    "    \n",
    "    # MVP\n",
    "    n_mean, n_cov = find_mean_cov(year)\n",
    "    sigma_mvp_portfolio = 1/np.sqrt( np.sum(np.linalg.inv(n_cov.values)) )\n",
    "    mvp_weights = np.sum(  (sigma_mvp_portfolio**2) * np.linalg.inv(n_cov) , axis=1 )\n",
    "    mvp_returns = benchmark.values @ mvp_weights\n",
    "    plotUtil(mvp_returns, 'MVP Portfolio')\n",
    "    \n",
    "    # inputted weights of the inputted portfolios\n",
    "    for i,weights in enumerate(points):\n",
    "        cur_return = benchmark.values @ weights\n",
    "        plotUtil(cur_return, 'Efficient Portfolio #'+str(i+1))\n",
    "    \n",
    "    plt.title('Value of Initial 1\\$ investment over the course of '+str(year))\n",
    "    plt.ylabel('Value in USD')\n",
    "    plt.xticks([0,83, 164, 250], ('January', 'April', 'August', 'December'))\n",
    "    plt.xlabel('Time (1 year)')\n",
    "    plt.legend()\n",
    "    plt.show()"
   ]
  },
  {
   "cell_type": "code",
   "execution_count": null,
   "metadata": {
    "_uuid": "a3ba81a2a6d911deba49712685a6a11fc131435f"
   },
   "outputs": [],
   "source": [
    "graphValue(2002, three_eff_front_weights)"
   ]
  },
  {
   "cell_type": "markdown",
   "metadata": {
    "_uuid": "03521061e3c266ba485094c49100490f833a920a"
   },
   "source": [
    "We can now run all the functions one after the other:"
   ]
  },
  {
   "cell_type": "code",
   "execution_count": null,
   "metadata": {
    "_uuid": "22c6adce625a031445be0b7391c550c8d098d408"
   },
   "outputs": [],
   "source": [
    "year = 2015\n",
    "\n",
    "m, c = find_mean_cov(year)\n",
    "print('For year ', year, 'the expected returns for each sector is:\\n', m, '\\n\\nThe resulting covariance matrix for the securities is:\\n', c)\n",
    "\n",
    "FiveFeasalbeCurves(year)\n",
    "\n",
    "efficientFrontierGraph(year)\n",
    "\n",
    "three_eff_front_weights, three_eff_front_sig, three_eff_front_mean = confirmConvexCombo(year)\n",
    "\n",
    "betaFactor(year, three_eff_front_mean, three_eff_front_sig)\n",
    "\n",
    "graphValue(year, three_eff_front_weights)"
   ]
  }
 ],
 "metadata": {
  "kernelspec": {
   "display_name": "Python 3",
   "language": "python",
   "name": "python3"
  },
  "language_info": {
   "codemirror_mode": {
    "name": "ipython",
    "version": 3
   },
   "file_extension": ".py",
   "mimetype": "text/x-python",
   "name": "python",
   "nbconvert_exporter": "python",
   "pygments_lexer": "ipython3",
   "version": "3.6.5"
  }
 },
 "nbformat": 4,
 "nbformat_minor": 1
}
